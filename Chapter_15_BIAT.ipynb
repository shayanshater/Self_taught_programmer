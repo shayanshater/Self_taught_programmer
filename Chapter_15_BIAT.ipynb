{
 "cells": [
  {
   "cell_type": "code",
   "execution_count": 31,
   "metadata": {},
   "outputs": [],
   "source": [
    "class Card:\n",
    "    suits = ['spades', 'hearts', 'diamonds', 'clubs']\n",
    "    values = [None, None, '2', '3', '4', '5', '6,', '7', '8', '9', '10', 'Jack', 'Queen', 'King', 'Ace']\n",
    "    def __init__(self, v,s):\n",
    "        self.suit =s \n",
    "        self.value = v\n",
    "        \n",
    "    def __1t__(self,c2):\n",
    "        if self.value < c2.value:\n",
    "            return True\n",
    "        if self.value == c2.value:\n",
    "            if self.suit < c2.suit:\n",
    "                return True\n",
    "            else:\n",
    "                return False\n",
    "        return False\n",
    "    \n",
    "    def __gt__(self,c2):\n",
    "        if self.value > c2.value:\n",
    "            return True\n",
    "        if self.value == c2.value:\n",
    "            if self.suit > c2.suit:\n",
    "                return True\n",
    "            else:\n",
    "                return False\n",
    "        return False\n",
    "    \n",
    "    def __repr__(self):\n",
    "        return self.values[self.value] + ' of ' + self.suits[self.suit]\n",
    "         \n",
    "            "
   ]
  },
  {
   "cell_type": "code",
   "execution_count": 32,
   "metadata": {},
   "outputs": [],
   "source": [
    "from random import shuffle\n",
    "\n",
    "class Deck:\n",
    "    def __init__(self):\n",
    "        self.cards = []\n",
    "        for i in range (2,15):\n",
    "            for j in range(4):\n",
    "                self.cards.append(Card(i,j))\n",
    "        shuffle(self.cards)\n",
    "        \n",
    "    def rm_cards(self):\n",
    "        if len(self.cards) == 0:\n",
    "            return None     #mistaken in text\n",
    "        return self.cards.pop()"
   ]
  },
  {
   "cell_type": "code",
   "execution_count": 33,
   "metadata": {},
   "outputs": [],
   "source": [
    "class  Player:\n",
    "    def __init__(self,name):\n",
    "        self.wins = 0\n",
    "        self.card = None\n",
    "        self.name = name"
   ]
  },
  {
   "cell_type": "code",
   "execution_count": 41,
   "metadata": {},
   "outputs": [],
   "source": [
    "class Game:\n",
    "    def __init__(self):\n",
    "        name1 = input(\"Player 1's Name:\")\n",
    "        name2 = input(\"Player 2's Name:\")\n",
    "        self.deck = Deck()\n",
    "        self.p1 = Player(name1)\n",
    "        self.p2 = Player(name2)\n",
    "    \n",
    "    \n",
    "    def winner(self,p1,p2):\n",
    "        if p1.wins > p2.wins:\n",
    "            return p1.name\n",
    "        if p2.wins > p1.wins:\n",
    "            return p2.name\n",
    "        else:\n",
    "            print('It was a tie!')\n",
    "    \n",
    "      \n",
    "    def wins(self,winner):\n",
    "        print(f'{winner} wins this round!') # improved\n",
    "    \n",
    "    def draw(self, p1n, p1c, p2n, p2c):\n",
    "        print(f'{p1n} drew {p1c}, {p2n} drew {p2c}') #improved\n",
    "    \n",
    "    def play_game(self):\n",
    "        cards = self.deck.cards\n",
    "        print('Beginning War!')\n",
    "        while len(cards) >=2:\n",
    "            m = 'q to quit. Any key to play'\n",
    "            response = input(m)\n",
    "            if response == 'q':\n",
    "                break\n",
    "            p1c = self.deck.rm_cards()\n",
    "            p2c = self.deck.rm_cards()\n",
    "            p1n = self.p1.name\n",
    "            p2n = self.p2.name\n",
    "            self.draw(p1n,p1c, p2n,p2c)\n",
    "            \n",
    "            if p1c > p2c:\n",
    "                self.p1.wins += 1\n",
    "                self.wins(self.p1.name)\n",
    "            else:\n",
    "                self.p2.wins += 1\n",
    "                self.wins(self.p2.name)\n",
    "            \n",
    "            \n",
    "        \n",
    "        \n",
    "        win = self.winner(self.p1, self.p2)\n",
    "        print(f'War is over, {win} wins.')\n",
    "        \n",
    "        \n",
    "        \n",
    "    \n",
    "    \n",
    "    "
   ]
  },
  {
   "cell_type": "code",
   "execution_count": 32,
   "metadata": {},
   "outputs": [
    {
     "name": "stdout",
     "output_type": "stream",
     "text": [
      "10 of diamonds\n"
     ]
    }
   ],
   "source": [
    "card1 = Card(10,2)\n",
    "card2 = Card(11,3)\n",
    "print(card1)"
   ]
  },
  {
   "cell_type": "code",
   "execution_count": 33,
   "metadata": {},
   "outputs": [
    {
     "name": "stdout",
     "output_type": "stream",
     "text": [
      "52\n"
     ]
    }
   ],
   "source": [
    "deck = Deck()\n",
    "print(len(deck.cards))"
   ]
  },
  {
   "cell_type": "code",
   "execution_count": null,
   "metadata": {},
   "outputs": [
    {
     "name": "stdout",
     "output_type": "stream",
     "text": [
      "Beginning War!\n",
      "s drew 2 of clubs, d drew 8 of hearts\n",
      "d wins this round!\n",
      "s drew Jack of hearts, d drew 10 of clubs\n",
      "s wins this round!\n",
      "s drew 3 of clubs, d drew 4 of spades\n",
      "d wins this round!\n",
      "s drew 6, of clubs, d drew 7 of spades\n",
      "d wins this round!\n",
      "s drew 4 of hearts, d drew 6, of hearts\n",
      "d wins this round!\n",
      "s drew 7 of hearts, d drew 10 of hearts\n",
      "d wins this round!\n",
      "s drew 2 of hearts, d drew 8 of clubs\n",
      "d wins this round!\n",
      "s drew 9 of hearts, d drew 5 of spades\n",
      "s wins this round!\n",
      "s drew 6, of diamonds, d drew King of clubs\n",
      "d wins this round!\n",
      "s drew 8 of spades, d drew 9 of clubs\n",
      "d wins this round!\n",
      "s drew King of hearts, d drew Queen of hearts\n",
      "s wins this round!\n",
      "s drew King of spades, d drew Ace of diamonds\n",
      "d wins this round!\n",
      "s drew Queen of spades, d drew Jack of diamonds\n",
      "s wins this round!\n",
      "s drew 3 of hearts, d drew 7 of clubs\n",
      "d wins this round!\n",
      "s drew Jack of clubs, d drew 2 of diamonds\n",
      "s wins this round!\n",
      "s drew 8 of diamonds, d drew 5 of hearts\n",
      "s wins this round!\n",
      "s drew Ace of clubs, d drew 4 of diamonds\n",
      "s wins this round!\n",
      "s drew 9 of diamonds, d drew 6, of spades\n",
      "s wins this round!\n",
      "s drew Queen of clubs, d drew Queen of diamonds\n",
      "s wins this round!\n",
      "s drew 7 of diamonds, d drew Ace of hearts\n",
      "d wins this round!\n",
      "s drew King of diamonds, d drew 3 of spades\n",
      "s wins this round!\n",
      "s drew 3 of diamonds, d drew 5 of clubs\n",
      "d wins this round!\n",
      "s drew Jack of spades, d drew 9 of spades\n",
      "s wins this round!\n",
      "s drew 2 of spades, d drew Ace of spades\n",
      "d wins this round!\n",
      "s drew 4 of clubs, d drew 10 of diamonds\n",
      "d wins this round!\n",
      "s drew 5 of diamonds, d drew 10 of spades\n",
      "d wins this round!\n",
      "War is over, d wins.\n",
      "11\n"
     ]
    }
   ],
   "source": [
    "game = Game()\n",
    "game.play_game()\n",
    "\n",
    "\n"
   ]
  }
 ],
 "metadata": {
  "kernelspec": {
   "display_name": ".venv",
   "language": "python",
   "name": "python3"
  },
  "language_info": {
   "codemirror_mode": {
    "name": "ipython",
    "version": 3
   },
   "file_extension": ".py",
   "mimetype": "text/x-python",
   "name": "python",
   "nbconvert_exporter": "python",
   "pygments_lexer": "ipython3",
   "version": "3.12.6"
  }
 },
 "nbformat": 4,
 "nbformat_minor": 2
}
