{
 "cells": [
  {
   "cell_type": "code",
   "execution_count": 1,
   "metadata": {},
   "outputs": [],
   "source": [
    "import os, csv\n",
    "file = os.path.join(\"chapter_9_csv_files\",\"test.csv\")\n",
    "\n",
    "\n",
    "save_to_file = input('What is something that you would want to save?')\n",
    "\n",
    "with open (file,'w',newline='') as f:\n",
    "    w = csv.writer(f, delimiter=',')\n",
    "    w.writerow([save_to_file])"
   ]
  },
  {
   "cell_type": "code",
   "execution_count": 2,
   "metadata": {},
   "outputs": [],
   "source": [
    "file = os.path.join(\"chapter_9_csv_files\",\"test_2.csv\")\n",
    "Movies = [\n",
    "    ['Top Gun', 'Risky business', 'minority report'],\n",
    "    ['titanic', 'the revenant', 'inception'],\n",
    "    ['training day', 'man on fire', 'flight']\n",
    "]\n",
    "\n",
    "\n",
    "with open (file,\"w\", newline='') as f:\n",
    "    w = csv.writer(f, delimiter=',')\n",
    "    for i in Movies:\n",
    "        w.writerow(i)"
   ]
  },
  {
   "cell_type": "markdown",
   "metadata": {},
   "source": [
    "# ALL done !!\n"
   ]
  },
  {
   "cell_type": "markdown",
   "metadata": {},
   "source": []
  }
 ],
 "metadata": {
  "kernelspec": {
   "display_name": ".venv",
   "language": "python",
   "name": "python3"
  },
  "language_info": {
   "codemirror_mode": {
    "name": "ipython",
    "version": 3
   },
   "file_extension": ".py",
   "mimetype": "text/x-python",
   "name": "python",
   "nbconvert_exporter": "python",
   "pygments_lexer": "ipython3",
   "version": "3.12.6"
  }
 },
 "nbformat": 4,
 "nbformat_minor": 2
}
