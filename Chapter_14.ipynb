{
 "cells": [
  {
   "cell_type": "code",
   "execution_count": null,
   "metadata": {},
   "outputs": [],
   "source": [
    "class Square():\n",
    "    square_list = []\n",
    "    def __init__(self,s):\n",
    "        self.side = s \n",
    "        self.square_list.append(self.side)\n",
    "        \n",
    "    def __repr__(self):\n",
    "        return f'{self.side} by {self.side} by {self.side} by {self.side}'\n",
    "    \n"
   ]
  },
  {
   "cell_type": "code",
   "execution_count": 24,
   "metadata": {},
   "outputs": [
    {
     "name": "stdout",
     "output_type": "stream",
     "text": [
      "10 by 10 by 10 by 10\n"
     ]
    }
   ],
   "source": [
    "sq1 = Square(5)\n",
    "sq2 = Square(10)\n",
    "\n",
    "print(sq2)"
   ]
  },
  {
   "cell_type": "code",
   "execution_count": 25,
   "metadata": {},
   "outputs": [],
   "source": [
    "def is_same_sqaure(square1,square2):\n",
    "    if square1 is square2:\n",
    "        print('They are the same square')\n",
    "    else:\n",
    "        print('They are NOT the same square ')"
   ]
  },
  {
   "cell_type": "code",
   "execution_count": 29,
   "metadata": {},
   "outputs": [
    {
     "name": "stdout",
     "output_type": "stream",
     "text": [
      "They are the same square\n",
      "They are NOT the same square \n"
     ]
    }
   ],
   "source": [
    "sq1__ = sq1\n",
    "\n",
    "\n",
    "is_same_sqaure(sq1,sq1__)\n",
    "is_same_sqaure(sq1,sq2)"
   ]
  },
  {
   "cell_type": "markdown",
   "metadata": {},
   "source": [
    "# ALL DONE !\n"
   ]
  }
 ],
 "metadata": {
  "kernelspec": {
   "display_name": ".venv",
   "language": "python",
   "name": "python3"
  },
  "language_info": {
   "codemirror_mode": {
    "name": "ipython",
    "version": 3
   },
   "file_extension": ".py",
   "mimetype": "text/x-python",
   "name": "python",
   "nbconvert_exporter": "python",
   "pygments_lexer": "ipython3",
   "version": "3.12.6"
  }
 },
 "nbformat": 4,
 "nbformat_minor": 2
}
