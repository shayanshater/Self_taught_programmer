{
 "cells": [
  {
   "cell_type": "code",
   "execution_count": 19,
   "metadata": {},
   "outputs": [],
   "source": [
    "import numpy as np"
   ]
  },
  {
   "cell_type": "code",
   "execution_count": 40,
   "metadata": {},
   "outputs": [],
   "source": [
    "class Shape():\n",
    "    def what_am_i(self):\n",
    "        print(f'I am a {self.shape}')\n",
    "\n",
    "class Rectangle(Shape):\n",
    "    def __init__(self,w,l):\n",
    "        self.length = l\n",
    "        self.width = w\n",
    "        self.shape = 'Rectangle'\n",
    "        \n",
    "    def calculate_perimeter(self):\n",
    "        return 2*(self.width + self.length)\n",
    "        \n",
    "    \n",
    "        \n",
    "class Square(Shape):\n",
    "    def __init__(self,s):\n",
    "        self.side = s\n",
    "        self.shape = 'Square'\n",
    "        \n",
    "    def calculate_perimeter(self):\n",
    "        return 4*(self.side)\n",
    "    def change_size(self,s_delta):\n",
    "        self.side += s_delta\n",
    "        \n",
    "    \n",
    "        "
   ]
  },
  {
   "cell_type": "code",
   "execution_count": 42,
   "metadata": {},
   "outputs": [
    {
     "name": "stdout",
     "output_type": "stream",
     "text": [
      "60\n",
      "I am a Rectangle\n",
      "20\n",
      "I am a Square\n",
      "40\n",
      "I am a Square\n"
     ]
    }
   ],
   "source": [
    "rec1 = Rectangle(10,20)\n",
    "print(rec1.calculate_perimeter())\n",
    "rec1.what_am_i()\n",
    "\n",
    "sq1 = Square(5)\n",
    "print(sq1.calculate_perimeter())\n",
    "sq1.what_am_i()\n",
    "\n",
    "sq1.change_size(5)\n",
    "print(sq1.calculate_perimeter())\n",
    "sq1.what_am_i()\n"
   ]
  },
  {
   "cell_type": "code",
   "execution_count": 43,
   "metadata": {},
   "outputs": [],
   "source": [
    "class Horse():\n",
    "    def __init__(self,c,a,r):\n",
    "        self.color = c\n",
    "        self.age = a\n",
    "        self.rider = r\n",
    "        \n",
    "class Person():\n",
    "    def __init__(self,name):\n",
    "        self.name = name\n",
    "        \n",
    "        "
   ]
  },
  {
   "cell_type": "code",
   "execution_count": 44,
   "metadata": {},
   "outputs": [
    {
     "name": "stdout",
     "output_type": "stream",
     "text": [
      "James Sunderland\n"
     ]
    }
   ],
   "source": [
    "james = Person('James Sunderland')\n",
    "horse1 = Horse('brown',12,james)\n",
    "print(horse1.rider.name)"
   ]
  },
  {
   "cell_type": "code",
   "execution_count": null,
   "metadata": {},
   "outputs": [],
   "source": []
  },
  {
   "cell_type": "markdown",
   "metadata": {},
   "source": [
    "# ALL DONE !!!"
   ]
  }
 ],
 "metadata": {
  "kernelspec": {
   "display_name": ".venv",
   "language": "python",
   "name": "python3"
  },
  "language_info": {
   "codemirror_mode": {
    "name": "ipython",
    "version": 3
   },
   "file_extension": ".py",
   "mimetype": "text/x-python",
   "name": "python",
   "nbconvert_exporter": "python",
   "pygments_lexer": "ipython3",
   "version": "3.12.6"
  }
 },
 "nbformat": 4,
 "nbformat_minor": 2
}
