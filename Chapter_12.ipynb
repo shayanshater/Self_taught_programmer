{
 "cells": [
  {
   "cell_type": "code",
   "execution_count": 5,
   "metadata": {},
   "outputs": [],
   "source": [
    "import numpy as np"
   ]
  },
  {
   "cell_type": "code",
   "execution_count": 6,
   "metadata": {},
   "outputs": [],
   "source": [
    "class apple():\n",
    "    def __init__(self,c,w,f,s):\n",
    "        self.color = c\n",
    "        self.weight = w\n",
    "        self.flavor = f\n",
    "        self.size = s\n",
    "        print('Apple created !')"
   ]
  },
  {
   "cell_type": "code",
   "execution_count": 7,
   "metadata": {},
   "outputs": [
    {
     "name": "stdout",
     "output_type": "stream",
     "text": [
      "Apple created !\n",
      "sweet\n"
     ]
    }
   ],
   "source": [
    "ap1 = apple('red',200,'sweet','big')\n",
    "print(ap1.flavor)"
   ]
  },
  {
   "cell_type": "code",
   "execution_count": 16,
   "metadata": {},
   "outputs": [],
   "source": [
    "class circle():\n",
    "    def __init__(self,r):\n",
    "        self.radius = r\n",
    "        print('circle created!')  \n",
    "    def area(self):\n",
    "        return np.pi * self.radius**2"
   ]
  },
  {
   "cell_type": "code",
   "execution_count": 18,
   "metadata": {},
   "outputs": [
    {
     "name": "stdout",
     "output_type": "stream",
     "text": [
      "circle created!\n",
      "314.1592653589793\n"
     ]
    }
   ],
   "source": [
    "circ1 = circle(10)\n",
    "print(circ1.area())"
   ]
  },
  {
   "cell_type": "code",
   "execution_count": 19,
   "metadata": {},
   "outputs": [],
   "source": [
    "class triangle():\n",
    "    def __init__(self,o,a):\n",
    "        self.opposite = o\n",
    "        self.adjacent = a\n",
    "        print(\"right angled triangle created!!\")\n",
    "        \n",
    "    def area(self):\n",
    "        return (self.opposite * self.adjacent)/2"
   ]
  },
  {
   "cell_type": "code",
   "execution_count": 21,
   "metadata": {},
   "outputs": [
    {
     "name": "stdout",
     "output_type": "stream",
     "text": [
      "right angled triangle created!!\n",
      "50.0\n"
     ]
    }
   ],
   "source": [
    "tri1 = triangle(10,10)\n",
    "print(tri1.area())"
   ]
  },
  {
   "cell_type": "code",
   "execution_count": 22,
   "metadata": {},
   "outputs": [],
   "source": [
    "class hexigon():\n",
    "    def __init__(self,s):\n",
    "        self.side_lenght = s\n",
    "        print('hexogon created!!')\n",
    "    def calculate_perimeter(self):\n",
    "        return 6*self.side_lenght"
   ]
  },
  {
   "cell_type": "code",
   "execution_count": 25,
   "metadata": {},
   "outputs": [
    {
     "name": "stdout",
     "output_type": "stream",
     "text": [
      "hexogon created!!\n",
      "60\n"
     ]
    }
   ],
   "source": [
    "hx1= hexigon(10)\n",
    "print(hx1.calculate_perimeter())"
   ]
  },
  {
   "cell_type": "markdown",
   "metadata": {},
   "source": [
    "### all done !!!"
   ]
  }
 ],
 "metadata": {
  "kernelspec": {
   "display_name": ".venv",
   "language": "python",
   "name": "python3"
  },
  "language_info": {
   "codemirror_mode": {
    "name": "ipython",
    "version": 3
   },
   "file_extension": ".py",
   "mimetype": "text/x-python",
   "name": "python",
   "nbconvert_exporter": "python",
   "pygments_lexer": "ipython3",
   "version": "3.12.6"
  }
 },
 "nbformat": 4,
 "nbformat_minor": 2
}
